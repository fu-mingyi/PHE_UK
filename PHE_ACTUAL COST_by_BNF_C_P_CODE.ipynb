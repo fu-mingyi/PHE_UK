{
 "cells": [
  {
   "cell_type": "code",
   "execution_count": 1,
   "metadata": {},
   "outputs": [],
   "source": [
    "import pandas as pd\n",
    "df_2020= pd.read_csv('https://raw.githubusercontent.com/zahraa-m/PHE_UK/main/EPD_202004.csv')\n",
    "df_2021= pd.read_csv('https://raw.githubusercontent.com/zahraa-m/PHE_UK/main/EPD_202104.csv')"
   ]
  },
  {
   "cell_type": "code",
   "execution_count": 18,
   "metadata": {},
   "outputs": [
    {
     "data": {
      "text/plain": [
       "7849553.171080001"
      ]
     },
     "execution_count": 18,
     "metadata": {},
     "output_type": "execute_result"
    }
   ],
   "source": [
    "#summarise 'ACTUAL_COST' in 2020\n",
    "df_2020['ACTUAL_COST'].sum()"
   ]
  },
  {
   "cell_type": "code",
   "execution_count": 19,
   "metadata": {},
   "outputs": [
    {
     "data": {
      "text/plain": [
       "8129384.501620002"
      ]
     },
     "execution_count": 19,
     "metadata": {},
     "output_type": "execute_result"
    }
   ],
   "source": [
    "#summarise 'ACTUAL_COST' in 2021\n",
    "df_2021['ACTUAL_COST'].sum()"
   ]
  },
  {
   "cell_type": "code",
   "execution_count": 21,
   "metadata": {},
   "outputs": [
    {
     "data": {
      "text/plain": [
       "1.035649332444932"
      ]
     },
     "execution_count": 21,
     "metadata": {},
     "output_type": "execute_result"
    }
   ],
   "source": [
    "# increment of 'ACTUAL_COST' from 2020 to 2021\n",
    "df_2021['ACTUAL_COST'].sum()/df_2020['ACTUAL_COST'].sum()"
   ]
  },
  {
   "cell_type": "code",
   "execution_count": 8,
   "metadata": {},
   "outputs": [
    {
     "data": {
      "text/plain": [
       "count                         216319\n",
       "unique                            20\n",
       "top       04: Central Nervous System\n",
       "freq                           54743\n",
       "Name: BNF_CHAPTER_PLUS_CODE, dtype: object"
      ]
     },
     "execution_count": 8,
     "metadata": {},
     "output_type": "execute_result"
    }
   ],
   "source": [
    "'BNF_CHAPTER_PLUS_CODE'#summarise \n",
    "df_2020['BNF_CHAPTER_PLUS_CODE'].describe()"
   ]
  },
  {
   "cell_type": "code",
   "execution_count": 12,
   "metadata": {},
   "outputs": [
    {
     "data": {
      "text/plain": [
       "BNF_CHAPTER_PLUS_CODE\n",
       "01: Gastro-Intestinal System                               29.393818\n",
       "02: Cardiovascular System                                  28.543309\n",
       "03: Respiratory System                                     73.115024\n",
       "04: Central Nervous System                                 27.749504\n",
       "05: Infections                                             20.131416\n",
       "06: Endocrine System                                       64.654654\n",
       "07: Obstetrics, Gynaecology and Urinary-Tract Disorders    26.282968\n",
       "08: Malignant Disease and Immunosuppression                70.478257\n",
       "09: Nutrition and Blood                                    45.682255\n",
       "10: Musculoskeletal and Joint Diseases                     20.963553\n",
       "11: Eye                                                    21.869329\n",
       "12: Ear, Nose and Oropharynx                               28.845989\n",
       "13: Skin                                                   23.395512\n",
       "14: Immunological Products and Vaccines                    53.750129\n",
       "15: Anaesthesia                                            36.166075\n",
       "19: Other Drugs and Preparations                           36.704693\n",
       "20: Dressings                                              48.620333\n",
       "21: Appliances                                             34.685951\n",
       "22: Incontinence Appliances                                57.097083\n",
       "23: Stoma Appliances                                       84.368412\n",
       "Name: ACTUAL_COST, dtype: float64"
      ]
     },
     "execution_count": 12,
     "metadata": {},
     "output_type": "execute_result"
    }
   ],
   "source": [
    "# mean 'ACTUAL_COST' grouped by 'BNF_CHAPTER_PLUS_CODE' in 2020\n",
    "df_2020.groupby('BNF_CHAPTER_PLUS_CODE')['ACTUAL_COST'].mean()"
   ]
  },
  {
   "cell_type": "code",
   "execution_count": 10,
   "metadata": {},
   "outputs": [
    {
     "data": {
      "text/plain": [
       "BNF_CHAPTER_PLUS_CODE\n",
       "01: Gastro-Intestinal System                                33.155450\n",
       "02: Cardiovascular System                                   31.427788\n",
       "03: Respiratory System                                      73.143055\n",
       "04: Central Nervous System                                  25.938845\n",
       "05: Infections                                              20.338859\n",
       "06: Endocrine System                                        65.187693\n",
       "07: Obstetrics, Gynaecology and Urinary-Tract Disorders     26.182677\n",
       "08: Malignant Disease and Immunosuppression                 75.989270\n",
       "09: Nutrition and Blood                                     45.553604\n",
       "10: Musculoskeletal and Joint Diseases                      20.790925\n",
       "11: Eye                                                     21.714533\n",
       "12: Ear, Nose and Oropharynx                                28.464686\n",
       "13: Skin                                                    24.216060\n",
       "14: Immunological Products and Vaccines                    260.730792\n",
       "15: Anaesthesia                                             29.078671\n",
       "18: Preparations used in Diagnosis                         163.010450\n",
       "19: Other Drugs and Preparations                            40.846786\n",
       "20: Dressings                                               44.441159\n",
       "21: Appliances                                              34.911512\n",
       "22: Incontinence Appliances                                 75.056760\n",
       "23: Stoma Appliances                                        85.523348\n",
       "Name: ACTUAL_COST, dtype: float64"
      ]
     },
     "execution_count": 10,
     "metadata": {},
     "output_type": "execute_result"
    }
   ],
   "source": [
    "# mean 'ACTUAL_COST' grouped by 'BNF_CHAPTER_PLUS_CODE' in 2021\n",
    "df_2021.groupby('BNF_CHAPTER_PLUS_CODE')['ACTUAL_COST'].mean()"
   ]
  }
 ],
 "metadata": {
  "kernelspec": {
   "display_name": "Python 3",
   "language": "python",
   "name": "python3"
  },
  "language_info": {
   "codemirror_mode": {
    "name": "ipython",
    "version": 3
   },
   "file_extension": ".py",
   "mimetype": "text/x-python",
   "name": "python",
   "nbconvert_exporter": "python",
   "pygments_lexer": "ipython3",
   "version": "3.6.10"
  }
 },
 "nbformat": 4,
 "nbformat_minor": 2
}
