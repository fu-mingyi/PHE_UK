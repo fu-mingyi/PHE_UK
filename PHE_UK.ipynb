{
  "nbformat": 4,
  "nbformat_minor": 0,
  "metadata": {
    "colab": {
      "name": "PHE_UK.ipynb",
      "provenance": [],
      "collapsed_sections": [],
      "authorship_tag": "ABX9TyOe6lMz3UBj8VmJHFKP7mbX",
      "include_colab_link": true
    },
    "kernelspec": {
      "name": "python3",
      "display_name": "Python 3"
    },
    "language_info": {
      "name": "python"
    }
  },
  "cells": [
    {
      "cell_type": "markdown",
      "metadata": {
        "id": "view-in-github",
        "colab_type": "text"
      },
      "source": [
        "<a href=\"https://colab.research.google.com/github/zahraa-m/PHE_UK/blob/main/PHE_UK.ipynb\" target=\"_parent\"><img src=\"https://colab.research.google.com/assets/colab-badge.svg\" alt=\"Open In Colab\"/></a>"
      ]
    },
    {
      "cell_type": "markdown",
      "metadata": {
        "id": "PMvN-yot50pA"
      },
      "source": [
        "## Preparing the data"
      ]
    },
    {
      "cell_type": "code",
      "source": [
        "import pandas as pd\n",
        "df_2020= pd.read_csv('https://raw.githubusercontent.com/zahraa-m/PHE_UK/main/EPD_202004.csv')\n",
        "df_2021= pd.read_csv('https://raw.githubusercontent.com/zahraa-m/PHE_UK/main/EPD_202104.csv')\n",
        "\n",
        "df_2020['area_co'] = df_2020['POSTCODE'].str[0:3]\n",
        "df_2021['area_co'] = df_2021['POSTCODE'].str[0:3]\n",
        "\n",
        "#calculate total quantity per medicine in each area in the Greater Manchester\n",
        "TQ_per_med_2020 = pd.crosstab(index=df_2020['CHEMICAL_SUBSTANCE_BNF_DESCR'], columns=df_2020['area_co'], values=df_2020['TOTAL_QUANTITY'], aggfunc='sum', margins=True).fillna(0).astype(int)\n",
        "TQ_per_med_2021 = pd.crosstab(index=df_2021['CHEMICAL_SUBSTANCE_BNF_DESCR'], columns=df_2021['area_co'], values=df_2021['TOTAL_QUANTITY'], aggfunc='sum', margins=True).fillna(0).astype(int)\n",
        "\n",
        "TQ_per_med_2020.to_csv(\"TQ_2020.csv\")\n",
        "TQ_per_med_2021.to_csv(\"TQ_2021.csv\")\n",
        "\n",
        "\n",
        "#calculate Cost per medicine in each area in the Greater Manchester\n",
        "cost_per_med_2020 = pd.crosstab(index=df_2020['CHEMICAL_SUBSTANCE_BNF_DESCR'], columns=df_2020['area_co'], values=df_2020['ACTUAL_COST'], aggfunc='sum', margins=True).fillna(0).astype(int)\n",
        "cost_per_med_2021 = pd.crosstab(index=df_2021['CHEMICAL_SUBSTANCE_BNF_DESCR'], columns=df_2021['area_co'], values=df_2021['ACTUAL_COST'], aggfunc='sum', margins=True).fillna(0).astype(int)\n",
        "\n",
        "#Delete the \"All\" row in the table\n",
        "TQ_per_med_2020 = TQ_per_med_2020.drop([\"All\"], axis=0)\n",
        "TQ_per_med_2021 = TQ_per_med_2021.drop([\"All\"], axis=0)\n",
        "\n",
        "cost_per_med_2020 = cost_per_med_2020.drop([\"All\"], axis=0)\n",
        "cost_per_med_2021 = cost_per_med_2021.drop([\"All\"], axis=0)\n",
        "\n",
        "#Rename the All column to TQ_2020 and TQ_2021\n",
        "TQ_per_med_2020 = TQ_per_med_2020.rename(columns={\"All\": \"TQ_2020\"})\n",
        "TQ_per_med_2021 = TQ_per_med_2021.rename(columns={\"All\": \"TQ_2021\"})\n",
        "\n",
        "cost_per_med_2020 = cost_per_med_2020.rename(columns={\"All\": \"cost_2020\"})\n",
        "cost_per_med_2021 = cost_per_med_2021.rename(columns={\"All\": \"cost_2021\"})\n",
        "\n",
        "#filter the tables to include only medicine's name and total quantity\n",
        "df1 = TQ_per_med_2020.filter(['CHEMICAL_SUBSTANCE_BNF_DESCR', 'TQ_2020'])\n",
        "df2 = TQ_per_med_2021.filter(['CHEMICAL_SUBSTANCE_BNF_DESCR', 'TQ_2021'])\n",
        "\n",
        "#filter the tables to include only medicine's name and Cost\n",
        "df3 = cost_per_med_2020.filter(['CHEMICAL_SUBSTANCE_BNF_DESCR', 'cost_2020'])\n",
        "df4 = cost_per_med_2021.filter(['CHEMICAL_SUBSTANCE_BNF_DESCR', 'cost_2021'])\n",
        "\n",
        "#find the difference between Total quantity of 2020 and 2021\n",
        "TQ_per_drug_allyear = pd.merge(df1, df2, how=\"outer\", on=('CHEMICAL_SUBSTANCE_BNF_DESCR')).fillna(0).astype(int)\n",
        "diff_TQ = (df2['TQ_2021'] - df1['TQ_2020'] )\n",
        "TQ_per_drug_allyear['diff_TQ']=diff_TQ.fillna(0) \n",
        "\n",
        "#find the percentage of the difference\n",
        "diff_TQ_pct = (diff_TQ / df1['TQ_2020']) * 100\n",
        "TQ_per_drug_allyear['diff_TQ_pct']=diff_TQ_pct.fillna(0)\n",
        "\n",
        "#Filter zero differance in total quantity\n",
        "TQ_per_drug_allyear= TQ_per_drug_allyear.query(\"diff_TQ>0\")\n",
        "\n",
        "\n",
        "#find the difference between cost of medicine in 2020 and 2021\n",
        "cost_per_drug_allyear = pd.merge(df3, df4, how=\"outer\", on=('CHEMICAL_SUBSTANCE_BNF_DESCR')).fillna(0).astype(int)\n",
        "diff_cost = (df4['cost_2021'] - df3['cost_2020'])\n",
        "cost_per_drug_allyear['diff_cost']= diff_cost.fillna(0)\n",
        "\n",
        "#find the percentage of the difference\n",
        "diff_cost_pct = (diff_cost / df3['cost_2020']) * 100\n",
        "cost_per_drug_allyear['diff_cost_pct']= diff_cost_pct.fillna(0)\n",
        "\n",
        "#Filter zero differance in cost\n",
        "cost_per_drug_allyear=cost_per_drug_allyear.query(\"diff_cost>0\")\n",
        "\n",
        "\n"
      ],
      "metadata": {
        "id": "yvROS0J82MyD"
      },
      "execution_count": 1,
      "outputs": []
    },
    {
      "cell_type": "markdown",
      "source": [
        "\n",
        "\n",
        "## You would need to install the **Plotly** package to plot the figures. Plotly is used to create interactive plots and maps. Please use this code to install the package:\n",
        "\n",
        "# **`pip install -U plotly`**\n"
      ],
      "metadata": {
        "id": "yzXy5GWJnOU6"
      }
    },
    {
      "cell_type": "markdown",
      "source": [
        "## After installing Plotly, we can run the next code to illustrate the PHE data."
      ],
      "metadata": {
        "id": "3RO7tRvN2eDd"
      }
    },
    {
      "cell_type": "code",
      "source": [
        "\n",
        "#plot the difference between Total quantity of medicine in 2021 and 2020\n",
        "import plotly.express as px\n",
        "fig_TQ = px.line(TQ_per_drug_allyear, x=TQ_per_drug_allyear.index, y='diff_TQ',\n",
        "                  labels={\n",
        "                     \"x\": \"Medicines\",\n",
        "                     \"diff_TQ\": \"Total Quantity difference\"},\n",
        "                 title='Total Quantity difference between 2021 & 2020')\n",
        "fig_TQ.show()\n",
        "\n",
        "#plot the percentage of difference between Total quantity of medicine in 2021 and 2020\n",
        "fig_TQ_pct = px.line(TQ_per_drug_allyear, x=TQ_per_drug_allyear.index, y='diff_TQ_pct',\n",
        "                  labels={\n",
        "                     \"x\": \"Medicines\",\n",
        "                     \"diff_TQ_pct\": \"Total Quantity Increase %\"},\n",
        "                 title='Percentage increase of Total Quantity difference between 2021 & 2020')\n",
        "fig_TQ_pct.update_traces(line_color='#F54730')\n",
        "fig_TQ_pct.show()\n",
        "\n",
        "\n",
        "#plot the cost difference between the medicine of 2021 and 2020\n",
        "fig_cost = px.line(cost_per_drug_allyear, x=cost_per_drug_allyear.index, y='diff_cost',\n",
        "                    labels={\n",
        "                       \"x\": \"Medicines\",\n",
        "                       \"diff_cost\": \"Cost difference\"},\n",
        "                   title='Cost difference between 2021 & 2020')\n",
        "fig_cost.show()\n",
        "\n",
        "#plot the percentage of cost difference between the medicine of 2021 and 2020\n",
        "fig_cost_pct = px.line(cost_per_drug_allyear, x=cost_per_drug_allyear.index, y='diff_cost_pct',\n",
        "                  labels={\n",
        "                     \"x\": \"Medicines\",\n",
        "                     \"diff_cost_pct\": \"Cost Increase %\"},\n",
        "                 title='Percentage increase of Cost difference between 2021 & 2020')\n",
        "fig_cost_pct.update_traces(line_color='#F54730')\n",
        "fig_cost_pct.show()"
      ],
      "metadata": {
        "id": "ib0fw8-R2jad"
      },
      "execution_count": null,
      "outputs": []
    }
  ]
}